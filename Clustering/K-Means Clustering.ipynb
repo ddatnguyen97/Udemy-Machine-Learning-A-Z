{
 "cells": [
  {
   "cell_type": "code",
   "execution_count": 2,
   "metadata": {},
   "outputs": [],
   "source": [
    "import pandas as pd\n",
    "import numpy as np\n",
    "import matplotlib.pyplot as plt\n",
    "from sklearn.cluster import KMeans"
   ]
  },
  {
   "cell_type": "code",
   "execution_count": 3,
   "metadata": {},
   "outputs": [
    {
     "data": {
      "text/html": [
       "<div>\n",
       "<style scoped>\n",
       "    .dataframe tbody tr th:only-of-type {\n",
       "        vertical-align: middle;\n",
       "    }\n",
       "\n",
       "    .dataframe tbody tr th {\n",
       "        vertical-align: top;\n",
       "    }\n",
       "\n",
       "    .dataframe thead th {\n",
       "        text-align: right;\n",
       "    }\n",
       "</style>\n",
       "<table border=\"1\" class=\"dataframe\">\n",
       "  <thead>\n",
       "    <tr style=\"text-align: right;\">\n",
       "      <th></th>\n",
       "      <th>CustomerID</th>\n",
       "      <th>Genre</th>\n",
       "      <th>Age</th>\n",
       "      <th>Annual Income (k$)</th>\n",
       "      <th>Spending Score (1-100)</th>\n",
       "    </tr>\n",
       "  </thead>\n",
       "  <tbody>\n",
       "    <tr>\n",
       "      <th>0</th>\n",
       "      <td>1</td>\n",
       "      <td>Male</td>\n",
       "      <td>19</td>\n",
       "      <td>15</td>\n",
       "      <td>39</td>\n",
       "    </tr>\n",
       "    <tr>\n",
       "      <th>1</th>\n",
       "      <td>2</td>\n",
       "      <td>Male</td>\n",
       "      <td>21</td>\n",
       "      <td>15</td>\n",
       "      <td>81</td>\n",
       "    </tr>\n",
       "    <tr>\n",
       "      <th>2</th>\n",
       "      <td>3</td>\n",
       "      <td>Female</td>\n",
       "      <td>20</td>\n",
       "      <td>16</td>\n",
       "      <td>6</td>\n",
       "    </tr>\n",
       "    <tr>\n",
       "      <th>3</th>\n",
       "      <td>4</td>\n",
       "      <td>Female</td>\n",
       "      <td>23</td>\n",
       "      <td>16</td>\n",
       "      <td>77</td>\n",
       "    </tr>\n",
       "    <tr>\n",
       "      <th>4</th>\n",
       "      <td>5</td>\n",
       "      <td>Female</td>\n",
       "      <td>31</td>\n",
       "      <td>17</td>\n",
       "      <td>40</td>\n",
       "    </tr>\n",
       "  </tbody>\n",
       "</table>\n",
       "</div>"
      ],
      "text/plain": [
       "   CustomerID   Genre  Age  Annual Income (k$)  Spending Score (1-100)\n",
       "0           1    Male   19                  15                      39\n",
       "1           2    Male   21                  15                      81\n",
       "2           3  Female   20                  16                       6\n",
       "3           4  Female   23                  16                      77\n",
       "4           5  Female   31                  17                      40"
      ]
     },
     "execution_count": 3,
     "metadata": {},
     "output_type": "execute_result"
    }
   ],
   "source": [
    "df = pd.read_csv('./Dataset/Mall_Customers.csv')\n",
    "df.head()"
   ]
  },
  {
   "cell_type": "code",
   "execution_count": 6,
   "metadata": {},
   "outputs": [
    {
     "data": {
      "text/plain": [
       "array([[ 15,  39],\n",
       "       [ 15,  81],\n",
       "       [ 16,   6],\n",
       "       [ 16,  77],\n",
       "       [ 17,  40],\n",
       "       [ 17,  76],\n",
       "       [ 18,   6],\n",
       "       [ 18,  94],\n",
       "       [ 19,   3],\n",
       "       [ 19,  72],\n",
       "       [ 19,  14],\n",
       "       [ 19,  99],\n",
       "       [ 20,  15],\n",
       "       [ 20,  77],\n",
       "       [ 20,  13],\n",
       "       [ 20,  79],\n",
       "       [ 21,  35],\n",
       "       [ 21,  66],\n",
       "       [ 23,  29],\n",
       "       [ 23,  98],\n",
       "       [ 24,  35],\n",
       "       [ 24,  73],\n",
       "       [ 25,   5],\n",
       "       [ 25,  73],\n",
       "       [ 28,  14],\n",
       "       [ 28,  82],\n",
       "       [ 28,  32],\n",
       "       [ 28,  61],\n",
       "       [ 29,  31],\n",
       "       [ 29,  87],\n",
       "       [ 30,   4],\n",
       "       [ 30,  73],\n",
       "       [ 33,   4],\n",
       "       [ 33,  92],\n",
       "       [ 33,  14],\n",
       "       [ 33,  81],\n",
       "       [ 34,  17],\n",
       "       [ 34,  73],\n",
       "       [ 37,  26],\n",
       "       [ 37,  75],\n",
       "       [ 38,  35],\n",
       "       [ 38,  92],\n",
       "       [ 39,  36],\n",
       "       [ 39,  61],\n",
       "       [ 39,  28],\n",
       "       [ 39,  65],\n",
       "       [ 40,  55],\n",
       "       [ 40,  47],\n",
       "       [ 40,  42],\n",
       "       [ 40,  42],\n",
       "       [ 42,  52],\n",
       "       [ 42,  60],\n",
       "       [ 43,  54],\n",
       "       [ 43,  60],\n",
       "       [ 43,  45],\n",
       "       [ 43,  41],\n",
       "       [ 44,  50],\n",
       "       [ 44,  46],\n",
       "       [ 46,  51],\n",
       "       [ 46,  46],\n",
       "       [ 46,  56],\n",
       "       [ 46,  55],\n",
       "       [ 47,  52],\n",
       "       [ 47,  59],\n",
       "       [ 48,  51],\n",
       "       [ 48,  59],\n",
       "       [ 48,  50],\n",
       "       [ 48,  48],\n",
       "       [ 48,  59],\n",
       "       [ 48,  47],\n",
       "       [ 49,  55],\n",
       "       [ 49,  42],\n",
       "       [ 50,  49],\n",
       "       [ 50,  56],\n",
       "       [ 54,  47],\n",
       "       [ 54,  54],\n",
       "       [ 54,  53],\n",
       "       [ 54,  48],\n",
       "       [ 54,  52],\n",
       "       [ 54,  42],\n",
       "       [ 54,  51],\n",
       "       [ 54,  55],\n",
       "       [ 54,  41],\n",
       "       [ 54,  44],\n",
       "       [ 54,  57],\n",
       "       [ 54,  46],\n",
       "       [ 57,  58],\n",
       "       [ 57,  55],\n",
       "       [ 58,  60],\n",
       "       [ 58,  46],\n",
       "       [ 59,  55],\n",
       "       [ 59,  41],\n",
       "       [ 60,  49],\n",
       "       [ 60,  40],\n",
       "       [ 60,  42],\n",
       "       [ 60,  52],\n",
       "       [ 60,  47],\n",
       "       [ 60,  50],\n",
       "       [ 61,  42],\n",
       "       [ 61,  49],\n",
       "       [ 62,  41],\n",
       "       [ 62,  48],\n",
       "       [ 62,  59],\n",
       "       [ 62,  55],\n",
       "       [ 62,  56],\n",
       "       [ 62,  42],\n",
       "       [ 63,  50],\n",
       "       [ 63,  46],\n",
       "       [ 63,  43],\n",
       "       [ 63,  48],\n",
       "       [ 63,  52],\n",
       "       [ 63,  54],\n",
       "       [ 64,  42],\n",
       "       [ 64,  46],\n",
       "       [ 65,  48],\n",
       "       [ 65,  50],\n",
       "       [ 65,  43],\n",
       "       [ 65,  59],\n",
       "       [ 67,  43],\n",
       "       [ 67,  57],\n",
       "       [ 67,  56],\n",
       "       [ 67,  40],\n",
       "       [ 69,  58],\n",
       "       [ 69,  91],\n",
       "       [ 70,  29],\n",
       "       [ 70,  77],\n",
       "       [ 71,  35],\n",
       "       [ 71,  95],\n",
       "       [ 71,  11],\n",
       "       [ 71,  75],\n",
       "       [ 71,   9],\n",
       "       [ 71,  75],\n",
       "       [ 72,  34],\n",
       "       [ 72,  71],\n",
       "       [ 73,   5],\n",
       "       [ 73,  88],\n",
       "       [ 73,   7],\n",
       "       [ 73,  73],\n",
       "       [ 74,  10],\n",
       "       [ 74,  72],\n",
       "       [ 75,   5],\n",
       "       [ 75,  93],\n",
       "       [ 76,  40],\n",
       "       [ 76,  87],\n",
       "       [ 77,  12],\n",
       "       [ 77,  97],\n",
       "       [ 77,  36],\n",
       "       [ 77,  74],\n",
       "       [ 78,  22],\n",
       "       [ 78,  90],\n",
       "       [ 78,  17],\n",
       "       [ 78,  88],\n",
       "       [ 78,  20],\n",
       "       [ 78,  76],\n",
       "       [ 78,  16],\n",
       "       [ 78,  89],\n",
       "       [ 78,   1],\n",
       "       [ 78,  78],\n",
       "       [ 78,   1],\n",
       "       [ 78,  73],\n",
       "       [ 79,  35],\n",
       "       [ 79,  83],\n",
       "       [ 81,   5],\n",
       "       [ 81,  93],\n",
       "       [ 85,  26],\n",
       "       [ 85,  75],\n",
       "       [ 86,  20],\n",
       "       [ 86,  95],\n",
       "       [ 87,  27],\n",
       "       [ 87,  63],\n",
       "       [ 87,  13],\n",
       "       [ 87,  75],\n",
       "       [ 87,  10],\n",
       "       [ 87,  92],\n",
       "       [ 88,  13],\n",
       "       [ 88,  86],\n",
       "       [ 88,  15],\n",
       "       [ 88,  69],\n",
       "       [ 93,  14],\n",
       "       [ 93,  90],\n",
       "       [ 97,  32],\n",
       "       [ 97,  86],\n",
       "       [ 98,  15],\n",
       "       [ 98,  88],\n",
       "       [ 99,  39],\n",
       "       [ 99,  97],\n",
       "       [101,  24],\n",
       "       [101,  68],\n",
       "       [103,  17],\n",
       "       [103,  85],\n",
       "       [103,  23],\n",
       "       [103,  69],\n",
       "       [113,   8],\n",
       "       [113,  91],\n",
       "       [120,  16],\n",
       "       [120,  79],\n",
       "       [126,  28],\n",
       "       [126,  74],\n",
       "       [137,  18],\n",
       "       [137,  83]], dtype=int64)"
      ]
     },
     "execution_count": 6,
     "metadata": {},
     "output_type": "execute_result"
    }
   ],
   "source": [
    "X = df.iloc[:, [3,4]].values\n",
    "X"
   ]
  },
  {
   "cell_type": "code",
   "execution_count": null,
   "metadata": {},
   "outputs": [
    {
     "name": "stderr",
     "output_type": "stream",
     "text": [
      "c:\\Users\\Admin\\AppData\\Local\\Programs\\Python\\Python311\\Lib\\site-packages\\sklearn\\cluster\\_kmeans.py:870: FutureWarning: The default value of `n_init` will change from 10 to 'auto' in 1.4. Set the value of `n_init` explicitly to suppress the warning\n",
      "  warnings.warn(\n",
      "c:\\Users\\Admin\\AppData\\Local\\Programs\\Python\\Python311\\Lib\\site-packages\\sklearn\\cluster\\_kmeans.py:870: FutureWarning: The default value of `n_init` will change from 10 to 'auto' in 1.4. Set the value of `n_init` explicitly to suppress the warning\n",
      "  warnings.warn(\n",
      "c:\\Users\\Admin\\AppData\\Local\\Programs\\Python\\Python311\\Lib\\site-packages\\sklearn\\cluster\\_kmeans.py:870: FutureWarning: The default value of `n_init` will change from 10 to 'auto' in 1.4. Set the value of `n_init` explicitly to suppress the warning\n",
      "  warnings.warn(\n",
      "c:\\Users\\Admin\\AppData\\Local\\Programs\\Python\\Python311\\Lib\\site-packages\\sklearn\\cluster\\_kmeans.py:870: FutureWarning: The default value of `n_init` will change from 10 to 'auto' in 1.4. Set the value of `n_init` explicitly to suppress the warning\n",
      "  warnings.warn(\n",
      "c:\\Users\\Admin\\AppData\\Local\\Programs\\Python\\Python311\\Lib\\site-packages\\sklearn\\cluster\\_kmeans.py:870: FutureWarning: The default value of `n_init` will change from 10 to 'auto' in 1.4. Set the value of `n_init` explicitly to suppress the warning\n",
      "  warnings.warn(\n",
      "c:\\Users\\Admin\\AppData\\Local\\Programs\\Python\\Python311\\Lib\\site-packages\\sklearn\\cluster\\_kmeans.py:870: FutureWarning: The default value of `n_init` will change from 10 to 'auto' in 1.4. Set the value of `n_init` explicitly to suppress the warning\n",
      "  warnings.warn(\n",
      "c:\\Users\\Admin\\AppData\\Local\\Programs\\Python\\Python311\\Lib\\site-packages\\sklearn\\cluster\\_kmeans.py:870: FutureWarning: The default value of `n_init` will change from 10 to 'auto' in 1.4. Set the value of `n_init` explicitly to suppress the warning\n",
      "  warnings.warn(\n",
      "c:\\Users\\Admin\\AppData\\Local\\Programs\\Python\\Python311\\Lib\\site-packages\\sklearn\\cluster\\_kmeans.py:870: FutureWarning: The default value of `n_init` will change from 10 to 'auto' in 1.4. Set the value of `n_init` explicitly to suppress the warning\n",
      "  warnings.warn(\n",
      "c:\\Users\\Admin\\AppData\\Local\\Programs\\Python\\Python311\\Lib\\site-packages\\sklearn\\cluster\\_kmeans.py:870: FutureWarning: The default value of `n_init` will change from 10 to 'auto' in 1.4. Set the value of `n_init` explicitly to suppress the warning\n",
      "  warnings.warn(\n",
      "c:\\Users\\Admin\\AppData\\Local\\Programs\\Python\\Python311\\Lib\\site-packages\\sklearn\\cluster\\_kmeans.py:870: FutureWarning: The default value of `n_init` will change from 10 to 'auto' in 1.4. Set the value of `n_init` explicitly to suppress the warning\n",
      "  warnings.warn(\n"
     ]
    },
    {
     "data": {
      "text/plain": [
       "Text(0.5, 1.0, 'Elbow Method')"
      ]
     },
     "execution_count": 9,
     "metadata": {},
     "output_type": "execute_result"
    },
    {
     "data": {
      "image/png": "[encoded data removed]",
      "text/plain": [
       "<Figure size 640x480 with 1 Axes>"
      ]
     },
     "metadata": {},
     "output_type": "display_data"
    }
   ],
   "source": [
    "wcss = []\n",
    "for i in range(1, 11):\n",
    "    k_means = KMeans(n_clusters=i, init='k-means++', random_state=42)\n",
    "    k_means.fit(X)\n",
    "    wcss.append(k_means.inertia_)\n",
    "\n",
    "plt.plot(range(1, 11), wcss)\n",
    "plt.title('Elbow Method')"
   ]
  },
  {
   "cell_type": "code",
   "execution_count": 10,
   "metadata": {},
   "outputs": [
    {
     "name": "stdout",
     "output_type": "stream",
     "text": [
      "[2 3 2 3 2 3 2 3 2 3 2 3 2 3 2 3 2 3 2 3 2 3 2 3 2 3 2 3 2 3 2 3 2 3 2 3 2\n",
      " 3 2 3 2 3 2 0 2 3 0 0 0 0 0 0 0 0 0 0 0 0 0 0 0 0 0 0 0 0 0 0 0 0 0 0 0 0\n",
      " 0 0 0 0 0 0 0 0 0 0 0 0 0 0 0 0 0 0 0 0 0 0 0 0 0 0 0 0 0 0 0 0 0 0 0 0 0\n",
      " 0 0 0 0 0 0 0 0 0 0 0 0 4 1 4 0 4 1 4 1 4 0 4 1 4 1 4 1 4 1 4 0 4 1 4 1 4\n",
      " 1 4 1 4 1 4 1 4 1 4 1 4 1 4 1 4 1 4 1 4 1 4 1 4 1 4 1 4 1 4 1 4 1 4 1 4 1\n",
      " 4 1 4 1 4 1 4 1 4 1 4 1 4 1 4]\n"
     ]
    },
    {
     "name": "stderr",
     "output_type": "stream",
     "text": [
      "c:\\Users\\Admin\\AppData\\Local\\Programs\\Python\\Python311\\Lib\\site-packages\\sklearn\\cluster\\_kmeans.py:870: FutureWarning: The default value of `n_init` will change from 10 to 'auto' in 1.4. Set the value of `n_init` explicitly to suppress the warning\n",
      "  warnings.warn(\n"
     ]
    }
   ],
   "source": [
    "k_means = KMeans(n_clusters=5, init='k-means++', random_state=42)\n",
    "y_kmeans = k_means.fit_predict(X)\n",
    "print(y_kmeans)"
   ]
  },
  {
   "cell_type": "code",
   "execution_count": 14,
   "metadata": {},
   "outputs": [
    {
     "data": {
      "text/plain": [
       "Text(0.5, 1.0, 'Clusters of customers')"
      ]
     },
     "execution_count": 14,
     "metadata": {},
     "output_type": "execute_result"
    },
    {
     "data": {
      "image/png": "[encoded data removed]",
      "text/plain": [
       "<Figure size 640x480 with 1 Axes>"
      ]
     },
     "metadata": {},
     "output_type": "display_data"
    }
   ],
   "source": [
    "plt.scatter(X[y_kmeans == 0, 0], X[y_kmeans == 0, 1], s=100, c='red', label='Cluster 1')\n",
    "plt.scatter(X[y_kmeans == 1, 0], X[y_kmeans == 1, 1], s=100, c='blue', label='Cluster 2')\n",
    "plt.scatter(X[y_kmeans == 2, 0], X[y_kmeans == 2, 1], s=100, c='green', label='Cluster 3')\n",
    "plt.scatter(X[y_kmeans == 3, 0], X[y_kmeans == 3, 1], s=100, c='cyan', label='Cluster 4')\n",
    "plt.scatter(X[y_kmeans == 4, 0], X[y_kmeans == 4, 1], s=100, c='magenta', label='Cluster 5')\n",
    "plt.scatter(k_means.cluster_centers_[:, 0], k_means.cluster_centers_[:, 1], s=300, c='yellow', label='Centroids')\n",
    "plt.title('Clusters of customers')"
   ]
  }
 ],
 "metadata": {
  "kernelspec": {
   "display_name": "Python 3",
   "language": "python",
   "name": "python3"
  },
  "language_info": {
   "codemirror_mode": {
    "name": "ipython",
    "version": 3
   },
   "file_extension": ".py",
   "mimetype": "text/x-python",
   "name": "python",
   "nbconvert_exporter": "python",
   "pygments_lexer": "ipython3",
   "version": "3.11.2"
  }
 },
 "nbformat": 4,
 "nbformat_minor": 2
}
